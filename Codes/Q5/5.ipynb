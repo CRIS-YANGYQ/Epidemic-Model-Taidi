{
 "cells": [
  {
   "cell_type": "markdown",
   "source": [
    "#### 导入科学包"
   ],
   "metadata": {
    "collapsed": false
   }
  },
  {
   "cell_type": "code",
   "execution_count": 2,
   "outputs": [],
   "source": [
    "import pandas as pd\n",
    "import numpy as np\n",
    "import os"
   ],
   "metadata": {
    "collapsed": false
   }
  },
  {
   "cell_type": "code",
   "execution_count": null,
   "outputs": [],
   "source": [
    "# 加载数据集\n",
    "pre = 'F:/University/学期资料/大二下资料/泰迪杯/dataset/5scan/'\n",
    "venue = pd.read_csv('F:/University/学期资料/大二下资料/泰迪杯/dataset/3venue.csv')\n",
    "acid = pd.read_csv('F:/University/学期资料/大二下资料/泰迪杯/dataset/6acid.csv')\n"
   ],
   "metadata": {
    "collapsed": false
   }
  },
  {
   "cell_type": "code",
   "execution_count": null,
   "outputs": [],
   "source": [
    "### 定义函数： 给定key-->list，建立一个所有键值为 0 的字典\n",
    "def todict(x):\n",
    "    my_set = x\n",
    "    my_dict = {key: 0 for key in my_set}\n",
    "    return my_dict\n",
    "# 筛选出阳性者的核酸检测记录\n",
    "acid_pos = acid.drop(acid[acid['jg'] == '阴性'].index)\n",
    "acid_pos = acid_pos.drop(acid[acid['jg'] == '未知'].index)\n",
    "acid_pos"
   ],
   "metadata": {
    "collapsed": false
   }
  },
  {
   "cell_type": "markdown",
   "source": [
    "#### 建立变量\n",
    "acid_pos: 所有核酸检测结果为阳性的人员数据，包含人员编号，采样时间和采样地点\n",
    "\n",
    "all_venues: 所有的场地信息\n",
    "\n",
    "all_positive_id: 所有阳性人员的编号\n",
    "\n",
    "all_grids: 所有的场地编号，（仅用）便于建立下面两个字典变量\n",
    "\n",
    "flow_of_each: 字典类型，key为地点编号，value为某一地点共61天的人流量\n",
    "\n",
    "all_po_grids_dict: 字典，key为地点编号，value为某一地点共61天的阳性人员流动量\n",
    "\n",
    "venue_list: 将所有地点编号转换为list类型，用于做上两个字典的索引而设\n",
    "\n",
    "mod_ob_flow: 模型需使用的目标feature - 1， 因为场所编号从1开始，便于索引用None初始化第0个元素，对应使用变量flow_of_each的数据，使用举例：获取某一个场所id的61天平均人流 -->\n",
    "mod_ob_flow[场所ID]\n",
    "\n",
    "mod_ob_pos: 模型需使用的目标feature - 2， 同上"
   ],
   "metadata": {
    "collapsed": false
   }
  },
  {
   "cell_type": "code",
   "execution_count": null,
   "outputs": [],
   "source": [
    "# 筛选出阳性者的核酸检测记录\n",
    "acid_pos = acid.drop(acid[acid['jg'] == '阴性'].index)\n",
    "acid_pos = acid_pos.drop(acid[acid['jg'] == '未知'].index)\n",
    "acid_pos = acid_pos[['user_id', 'cysj', 'grid_point_id']]\n",
    "\n",
    "all_venues = venue\n",
    "all_positive_id = acid.user_id.unique()\n",
    "files = os.listdir(pre)\n",
    "\n",
    "all_grids = set(all_venues['grid_point_id'].tolist())\n",
    "all_po_grids_dict = todict(all_grids)\n",
    "flow_of_each = todict(all_grids)\n",
    "\n",
    "keys = flow_of_each.keys()\n",
    "venue_list = list(keys)\n",
    "\n",
    "mod_ob_flow = [None]\n",
    "mod_ob_pos = [None]"
   ],
   "metadata": {
    "collapsed": false
   }
  },
  {
   "cell_type": "markdown",
   "source": [
    "##### 访问某一个场所的61天数据： mod_ob[venue_list] = list_array {....}\n",
    "##### 开始查找"
   ],
   "metadata": {
    "collapsed": false
   }
  },
  {
   "cell_type": "code",
   "execution_count": null,
   "outputs": [],
   "source": [
    "idx = 0\n",
    "## 遍历每一天的数据集\n",
    "for file_name in files:\n",
    "    df_scan = pd.read_csv(pre + file_name)\n",
    "    e = df_scan[['user_id', 'grid_point_id', 'create_time']]\n",
    "    sample_slice_id = []  ## 每一天人在两天后的核酸检测结果为阳性的人员id\n",
    "    ## 遍历第一次获取目标时间范围点\n",
    "    for _, row in e.iterrows():\n",
    "        enter_time = row[2][:10]  ## 扫码时间 13\n",
    "        obj_time = pd.to_datetime(enter_time, format='%Y-%m-%d')  ## 扫码时间后两天-- 核酸检测当天 15\n",
    "        obj_time_m = obj_time + pd.Timedelta(days=1)  ## 核酸检测时间结束16\n",
    "        mask = (pd.to_datetime(acid_pos['cysj']) >= obj_time) & (pd.to_datetime(acid_pos['cysj']) <= obj_time_m)\n",
    "        sample_slice_id = acid_pos[mask]['user_id'].to_list()  ## 获得此时 将在两天后为阳性 的人员id\n",
    "        break\n",
    "\n",
    "    ## 每一天中每一行\n",
    "    for _, row in e.iterrows():\n",
    "        grid_id = row[1]  ## 扫码地点\n",
    "        flow_of_each[grid_id] += 1  ## 人流加一\n",
    "\n",
    "        if row[0] in sample_slice_id:  ## 该人若在目标list中 (阳性)\n",
    "            place_id = grid_id\n",
    "            all_po_grids_dict[place_id] += 1\n",
    "\n",
    "    print(idx)\n",
    "    idx += 1"
   ],
   "metadata": {
    "collapsed": false
   }
  },
  {
   "cell_type": "code",
   "execution_count": null,
   "outputs": [],
   "source": [
    "for id in all_grids:\n",
    "    print('场所编号', id, \"{ 人流量: \", flow_of_each[id], \",\\t阳性人员流动量: \", all_po_grids_dict[id], \"}\")"
   ],
   "metadata": {
    "collapsed": false
   }
  },
  {
   "cell_type": "markdown",
   "source": [
    "#### 第一阶段：建立特征值\n",
    "###### 导入模型"
   ],
   "metadata": {
    "collapsed": false
   }
  },
  {
   "cell_type": "code",
   "execution_count": null,
   "outputs": [],
   "source": [
    "mod_ob_flow = flow_of_each\n",
    "mod_ob_pos = all_po_grids_dict\n",
    "# 特征1：特定场所出现阳性人员数量\n",
    "feature_1 = pd.DataFrame([mod_ob_pos])\n",
    "# 特征2：场所人数\n",
    "feature_2 = pd.DataFrame([mod_ob_flow])\n",
    "\n",
    "feature_1 = feature_1.transpose()\n",
    "feature_2 = feature_2.transpose()\n",
    "# 检查feature_2中哪些行的数值为0\n",
    "zero_mask = (feature_2 == 0)"
   ],
   "metadata": {
    "collapsed": false
   }
  },
  {
   "cell_type": "code",
   "execution_count": 3,
   "outputs": [],
   "source": [
    "# 读取数据\n",
    "data = pd.read_table(\"cordinates.csv\")"
   ],
   "metadata": {
    "collapsed": false
   }
  },
  {
   "cell_type": "code",
   "execution_count": null,
   "outputs": [],
   "source": [
    "print(data)"
   ],
   "metadata": {
    "collapsed": false,
    "pycharm": {
     "is_executing": true
    }
   }
  },
  {
   "cell_type": "code",
   "execution_count": 4,
   "metadata": {
    "collapsed": true
   },
   "outputs": [],
   "source": [
    "# 计算欧几里得距离矩阵\n",
    "def euclidean_distance_matrix(data):\n",
    "    n = len(data)\n",
    "    distances = np.zeros((n, n))\n",
    "    for i in range(n):\n",
    "        for j in range(n):\n",
    "            distances[i, j] = np.sqrt((data.iloc[i, 1] - data.iloc[j, 1])**2\n",
    "                                      + (data.iloc[i, 2] - data.iloc[j, 2])**2)\n",
    "    return distances"
   ]
  },
  {
   "cell_type": "code",
   "execution_count": null,
   "outputs": [],
   "source": [
    "# 计算空间权重矩阵\n",
    "def spatial_weight_matrix(data):\n",
    "    distances = euclidean_distance_matrix(data)\n",
    "    weights = np.zeros((len(data), len(data)))\n",
    "    for i in range(len(data)):\n",
    "        for j in range(len(data)):\n",
    "            if i == j:\n",
    "                weights[i, j] = 0\n",
    "            else:\n",
    "                weights[i, j] = 1 / distances[i, j] if distances[i, j] != 0 else 0\n",
    "    return weights"
   ],
   "metadata": {
    "collapsed": false
   }
  },
  {
   "cell_type": "code",
   "execution_count": null,
   "outputs": [],
   "source": [
    "# 计算Moran's I指标\n",
    "def morans_I(data):\n",
    "    x = data.iloc[:, 3]\n",
    "    n = len(x)\n",
    "    w = spatial_weight_matrix(data)\n",
    "    wx = w @ x\n",
    "    sum_x = np.sum(x)\n",
    "    sum_w = np.sum(w)\n",
    "    sum_wx = np.sum(wx)\n",
    "    mean_x = sum_x / n\n",
    "    s0 = np.sum((x - mean_x)**2)\n",
    "    s1 = np.sum(wx**2) / sum_w\n",
    "    s2 = (sum_wx / sum_w)**2\n",
    "    I = (n / s0) * ((s1 - s2) / (s0 / (n-1)))\n",
    "    return I, w"
   ],
   "metadata": {
    "collapsed": false
   }
  },
  {
   "cell_type": "markdown",
   "source": [
    "#### 输出结果"
   ],
   "metadata": {
    "collapsed": false
   }
  },
  {
   "cell_type": "code",
   "execution_count": null,
   "outputs": [],
   "source": [
    "I, w = morans_I(data)\n",
    "print(I)\n",
    "print(w)"
   ],
   "metadata": {
    "collapsed": false
   }
  },
  {
   "cell_type": "code",
   "execution_count": null,
   "outputs": [],
   "source": [
    "def count_neighbors(data, distance_threshold):\n",
    "    n = len(data)\n",
    "    neighbor_counts = np.zeros(n)\n",
    "    neighbor_positions = [[] for _ in range(n)]\n",
    "    for i in range(n):\n",
    "        for j in range(n):\n",
    "            if i == j:\n",
    "                continue\n",
    "            distance = np.sqrt((data.iloc[i, 1] - data.iloc[j, 1])**2\n",
    "                                  + (data.iloc[i, 2] - data.iloc[j, 2])**2)\n",
    "            if distance <= distance_threshold:\n",
    "                neighbor_counts[i] += 1\n",
    "                neighbor_positions[i].append(j)\n",
    "    return neighbor_counts, neighbor_positions"
   ],
   "metadata": {
    "collapsed": false
   }
  },
  {
   "cell_type": "code",
   "execution_count": null,
   "outputs": [],
   "source": [
    "def spatial_weight_matrix(data):\n",
    "    distances = euclidean_distance_matrix(data)\n",
    "    weights = np.zeros((len(data), len(data)))\n",
    "    for i in range(len(data)):\n",
    "        for j in range(len(data)):\n",
    "            if i == j:\n",
    "                weights[i, j] = 0\n",
    "            else:\n",
    "                if distances[i, j] == 0:\n",
    "                    weights[i, j] = 0\n",
    "                else:\n",
    "                    weights[i, j] = 1 / distances[i, j]\n",
    "    return weights"
   ],
   "metadata": {
    "collapsed": false
   }
  },
  {
   "cell_type": "code",
   "execution_count": null,
   "outputs": [],
   "source": [
    "def local_morans_I(data, neighbor_counts, neighbor_positions):\n",
    "    x = data.iloc[:, 3]\n",
    "    n = len(x)\n",
    "    w = spatial_weight_matrix(data)\n",
    "    wx = w @ x\n",
    "    sum_x = np.sum(x)\n",
    "    sum_w = np.sum(w)\n",
    "    sum_wx = np.sum(wx)\n",
    "    mean_x = sum_x / n\n",
    "    epsilon = 1e-5 # 增加epsilon的值\n",
    "    s0 = np.sum((x - mean_x)**2) + epsilon\n",
    "    s1 = np.sum(wx**2) / sum_w\n",
    "    s2 = (sum_wx / sum_w)**2\n",
    "    I = (n / s0) * ((s1 - s2) / (s0 / (n-1)))\n",
    "    local_I = np.zeros(n)\n",
    "    for i in range(n):\n",
    "        if neighbor_counts[i] == 0:\n",
    "            continue\n",
    "        xi_bar = np.mean(x.iloc[neighbor_positions[i]]) # 修改这一行，使用iloc\n",
    "        s0i = np.sum((x.iloc[neighbor_positions[i]] - xi_bar)**2) # 修改这一行，使用iloc\n",
    "        s1i = np.sum(w[i, neighbor_positions[i]] * wx[neighbor_positions[i]])\n",
    "        s2i = (np.sum(w[i, neighbor_positions[i]]) * xi_bar)**2\n",
    "        local_I[i] = (neighbor_counts[i] / s0i) * ((s1i - s2i) / (s0i / (neighbor_counts[i]-1)))\n",
    "    return local_I"
   ],
   "metadata": {
    "collapsed": false
   }
  },
  {
   "cell_type": "code",
   "execution_count": null,
   "outputs": [],
   "source": [
    "radius = 800\n",
    "neighbor_counts, neighbor_positions = count_neighbors(data, radius)\n",
    "local_I = local_morans_I(data, neighbor_counts, neighbor_positions)\n",
    "print(local_I)"
   ],
   "metadata": {
    "collapsed": false
   }
  }
 ],
 "metadata": {
  "kernelspec": {
   "display_name": "Python 3",
   "language": "python",
   "name": "python3"
  },
  "language_info": {
   "codemirror_mode": {
    "name": "ipython",
    "version": 2
   },
   "file_extension": ".py",
   "mimetype": "text/x-python",
   "name": "python",
   "nbconvert_exporter": "python",
   "pygments_lexer": "ipython2",
   "version": "2.7.6"
  }
 },
 "nbformat": 4,
 "nbformat_minor": 0
}
